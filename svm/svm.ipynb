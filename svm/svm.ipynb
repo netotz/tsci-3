{
 "metadata": {
  "language_info": {
   "codemirror_mode": {
    "name": "ipython",
    "version": 3
   },
   "file_extension": ".py",
   "mimetype": "text/x-python",
   "name": "python",
   "nbconvert_exporter": "python",
   "pygments_lexer": "ipython3",
   "version": "3.8.8"
  },
  "orig_nbformat": 2,
  "kernelspec": {
   "name": "python3",
   "display_name": "Python 3.8.8 64-bit",
   "metadata": {
    "interpreter": {
     "hash": "26261d6663085c58a05028b261ddcaf6e8498ee173f6cf308ab2fece185123cf"
    }
   }
  }
 },
 "nbformat": 4,
 "nbformat_minor": 2,
 "cells": [
  {
   "source": [
    "# Ejercicio de máquinas de vector soporte\n",
    "\n",
    "Se realizará una práctica para demostrar cómo funcionan las **máquinas de vector soporte** o **SVM** por sus siglas en inglés, haciendo uso de una Jupyter Notebook con Python 3.8 y la librería `scikit-learn`, la cual implementa diversos algoritmos y técnicas de aprendizaje máquina, incluyendo SVM."
   ],
   "cell_type": "markdown",
   "metadata": {}
  },
  {
   "source": [
    "El primer paso es cargar el conjunto de datos para clasificarlo mediante el algoritmo de SVM. Para este ejercicio se usarán datos obtenidos de imágenes de cáncer de mama, la cual tiene dos clases de cáncer: maligno o benigno."
   ],
   "cell_type": "markdown",
   "metadata": {}
  },
  {
   "cell_type": "code",
   "execution_count": 6,
   "metadata": {},
   "outputs": [
    {
     "output_type": "stream",
     "name": "stdout",
     "text": [
      "Características: ['mean radius' 'mean texture' 'mean perimeter' 'mean area'\n 'mean smoothness' 'mean compactness' 'mean concavity'\n 'mean concave points' 'mean symmetry' 'mean fractal dimension'\n 'radius error' 'texture error' 'perimeter error' 'area error'\n 'smoothness error' 'compactness error' 'concavity error'\n 'concave points error' 'symmetry error' 'fractal dimension error'\n 'worst radius' 'worst texture' 'worst perimeter' 'worst area'\n 'worst smoothness' 'worst compactness' 'worst concavity'\n 'worst concave points' 'worst symmetry' 'worst fractal dimension']\n\nCantidad de características: 30\n\nClases: ['malignant' 'benign']\n"
     ]
    }
   ],
   "source": [
    "from sklearn.datasets import load_breast_cancer\n",
    "\n",
    "cancer_dataset = load_breast_cancer()\n",
    "print('Características:', cancer_dataset.feature_names)\n",
    "print('\\nCantidad de características:', len(cancer_dataset.feature_names))\n",
    "print('\\nClases:', cancer_dataset.target_names)"
   ]
  },
  {
   "source": [
    "Ahora vamos a dividir el conjunto de datos actual en un conjunto de entrenamiento, para alimentar al algoritmo, y otro de prueba, para medir qué tan bueno es."
   ],
   "cell_type": "markdown",
   "metadata": {}
  },
  {
   "cell_type": "code",
   "execution_count": 7,
   "metadata": {},
   "outputs": [],
   "source": [
    "from sklearn.model_selection import train_test_split\n",
    "\n",
    "x_train, x_test, y_train, y_test = train_test_split(\n",
    "    cancer_dataset.data,\n",
    "    cancer_dataset.target,\n",
    ")"
   ]
  },
  {
   "source": [
    "Vamos a importar el módulo de la librería `sk-learn` que nos permitirá aplicar el SVM y construir un objeto de este tipo para usar los métodos correspondientes a este algoritmo."
   ],
   "cell_type": "markdown",
   "metadata": {}
  },
  {
   "cell_type": "code",
   "execution_count": 9,
   "metadata": {},
   "outputs": [],
   "source": [
    "from sklearn.svm import SVC\n",
    "\n",
    "classifier = SVC(kernel='linear', gamma='scale')\n",
    "# entrenar el clasificador de SVM\n",
    "classifier.fit(x_train, y_train);"
   ]
  },
  {
   "source": [
    "Con el modelo ya entrenado podemos pasar a evaluar qué tan preciso es al clasificar datos que no fueron usados en el entrenamiento."
   ],
   "cell_type": "markdown",
   "metadata": {}
  },
  {
   "cell_type": "code",
   "execution_count": 11,
   "metadata": {},
   "outputs": [
    {
     "output_type": "execute_result",
     "data": {
      "text/plain": [
       "0.9370629370629371"
      ]
     },
     "metadata": {},
     "execution_count": 11
    }
   ],
   "source": [
    "from sklearn import metrics\n",
    "\n",
    "# predecir datos de prueba con modelo entrenado\n",
    "y_predicted = classifier.predict(x_test)\n",
    "# evaluar modelo\n",
    "metrics.accuracy_score(y_test, y_predicted)"
   ]
  },
  {
   "source": [
    "Este resultado nos dice que esta máquina de vector soporte clasifica correctamente los datos el 93.7% de las veces."
   ],
   "cell_type": "markdown",
   "metadata": {}
  }
 ]
}